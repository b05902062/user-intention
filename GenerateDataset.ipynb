{
  "nbformat": 4,
  "nbformat_minor": 0,
  "metadata": {
    "colab": {
      "provenance": [],
      "authorship_tag": "ABX9TyMZrl+jofF0r7UujD1o/27n",
      "include_colab_link": true
    },
    "kernelspec": {
      "name": "python3",
      "display_name": "Python 3"
    },
    "language_info": {
      "name": "python"
    }
  },
  "cells": [
    {
      "cell_type": "markdown",
      "metadata": {
        "id": "view-in-github",
        "colab_type": "text"
      },
      "source": [
        "<a href=\"https://colab.research.google.com/github/b05902062/user-intention/blob/main/GenerateDataset.ipynb\" target=\"_parent\"><img src=\"https://colab.research.google.com/assets/colab-badge.svg\" alt=\"Open In Colab\"/></a>"
      ]
    },
    {
      "cell_type": "code",
      "source": [
        "!huggingface-cli login"
      ],
      "metadata": {
        "id": "rvA4Fc70ev4v"
      },
      "execution_count": null,
      "outputs": []
    },
    {
      "cell_type": "code",
      "source": [
        "!pip install --upgrade datasets huggingface_hub fsspec"
      ],
      "metadata": {
        "id": "Unpr7rxgfikc"
      },
      "execution_count": null,
      "outputs": []
    },
    {
      "cell_type": "code",
      "source": [
        "new_repo_name = input(\"Please enter the new Hugging Face repository name (e.g., 'your-username/your-repo'): \").strip()"
      ],
      "metadata": {
        "id": "M4UXaTNZmjDY"
      },
      "execution_count": null,
      "outputs": []
    },
    {
      "cell_type": "code",
      "execution_count": null,
      "metadata": {
        "id": "nP5pKcuCek0x"
      },
      "outputs": [],
      "source": [
        "import re\n",
        "import json\n",
        "from datasets import load_dataset, Dataset\n",
        "\n",
        "def transform_example(example):\n",
        "    \"\"\"\n",
        "    Transforms a single example from the original dataset structure\n",
        "    to the new desired structure. Returns None if an error occurs during transformation.\n",
        "    \"\"\"\n",
        "    new_example = {}\n",
        "\n",
        "    # 1. Transform 'system' field: Remove \"SYSTEM: \" prefix\n",
        "    system_text = example['system']\n",
        "    if system_text.startswith('SYSTEM: You are a helpful assistant with access to the following functions. Use them if required -\\n'):\n",
        "        new_example['system'] = system_text[len('SYSTEM: You are a helpful assistant with access to the following functions. Use them if required -\\n'):].strip()\n",
        "    else:\n",
        "        new_example['system'] = system_text.strip()\n",
        "\n",
        "    # 2. Extract the first USER and first ASSISTANT block from 'chat' field\n",
        "    chat_content = example['chat']\n",
        "\n",
        "    # Regex to find the first USER block and the subsequent ASSISTANT block.\n",
        "    # It captures the user's message and the assistant's immediate response.\n",
        "    # We use non-greedy matching (.*?) and look for various termination markers\n",
        "    # for the assistant's response: <|endoftext|>, FUNCTION RESPONSE:, or the next USER:\n",
        "    chat_match = re.match(\n",
        "        r'USER: (.*?)\\n*\\s*ASSISTANT: (.*?)(?:<\\|endoftext\\|>|\\n*\\s*FUNCTION RESPONSE:|\\n*\\s*USER:|$)',\n",
        "        chat_content,\n",
        "        re.DOTALL\n",
        "    )\n",
        "\n",
        "    if chat_match:\n",
        "        user_message = chat_match.group(1).strip()\n",
        "        assistant_raw = chat_match.group(2).strip()\n",
        "    else:\n",
        "        # Fallback for cases that might not perfectly match the regex,\n",
        "        # though the provided example fits. This handles if a chat only has USER or ASSISTANT.\n",
        "        print(f\"Warning: Chat only has USER or ASSISTANT. Skipping example. Raw: {chat_content}\")\n",
        "        return None # Skip this example\n",
        "\n",
        "    new_example['user'] = user_message\n",
        "\n",
        "    # 3. Transform 'assistant' field based on its content\n",
        "    function_call_pattern = re.compile(r'<functioncall> ({.*})')\n",
        "    func_call_match = function_call_pattern.search(assistant_raw)\n",
        "\n",
        "    if func_call_match:\n",
        "        # If it's a function call, parse the JSON to get the function name\n",
        "        func_call_str = func_call_match.group(1)\n",
        "        try:\n",
        "          # Instead of json.loads(func_call_str) which fails due to single quotes\n",
        "          # within the arguments string, we'll use regex to directly extract the function name.\n",
        "          name_match = re.search(r'\"name\": \"(.*?)\"', func_call_str)\n",
        "          if name_match:\n",
        "              function_name = name_match.group(1)\n",
        "              new_example['assistant'] = json.dumps({\n",
        "                \"function\": {\n",
        "                    function_name: {\n",
        "                        \"intent\": \"true\"\n",
        "                    }\n",
        "                }\n",
        "              })\n",
        "          else:\n",
        "              # If function name is missing or regex fails to find it, skip example\n",
        "              print(f\"Warning: Function name not found in function call string. Skipping example. Raw: {func_call_str}\")\n",
        "              return None\n",
        "        except json.JSONDecodeError as e:\n",
        "            print(f\"Warning: Could not parse function call JSON for example: {e}. Skipping example. Raw: {chat_content}\")\n",
        "            print(f\"Warning: Could not parse function call JSON for example: {e}. Skipping example. Raw: {func_call_str}\")\n",
        "            return None # Skip this example\n",
        "    else:\n",
        "        # If not a function call, keep the original text, removing <|endoftext|>\n",
        "        new_example['assistant'] = assistant_raw.replace('<|endoftext|>', '').strip()\n",
        "\n",
        "    return new_example\n",
        "\n",
        "def main():\n",
        "    # Define the original dataset and the new repository name\n",
        "    original_dataset_name = 'glaiveai/glaive-function-calling-v2'\n",
        "    # IMPORTANT: Replace 'your-username' with your Hugging Face username\n",
        "    # and 'your-new-repo-name' with the desired name for your new dataset.\n",
        "    # You will need to be logged in to Hugging Face CLI or provide a token.\n",
        "\n",
        "    print(f\"Loading dataset: {original_dataset_name}\")\n",
        "    # Load the training split of the dataset\n",
        "    dataset = load_dataset(original_dataset_name, split='train')\n",
        "    print(f\"Dataset loaded with {len(dataset)} examples.\")\n",
        "\n",
        "    print(\"Transforming dataset examples...\")\n",
        "    transformed_data = []\n",
        "    skipped_count = 0\n",
        "    for i, example in enumerate(dataset):\n",
        "        try:\n",
        "            transformed_example = transform_example(example)\n",
        "            if transformed_example is not None:\n",
        "                transformed_data.append(transformed_example)\n",
        "            else:\n",
        "                skipped_count += 1\n",
        "        except Exception as e:\n",
        "            print(f\"Error transforming example {i}: {e}. Skipping row.\")\n",
        "            skipped_count += 1\n",
        "\n",
        "    print(f\"Finished transforming {len(transformed_data)} examples. Skipped {skipped_count} rows due to errors.\")\n",
        "\n",
        "    # Create a new Dataset object from the transformed list\n",
        "    new_dataset = Dataset.from_list(transformed_data)\n",
        "    print(\"New dataset created. Sample of transformed data:\")\n",
        "    # Print a sample of the transformed data for verification\n",
        "    for i in range(min(3, len(new_dataset))):\n",
        "        print(f\"\\n--- Transformed Example {i+1} ---\")\n",
        "        print(json.dumps(new_dataset[i], indent=2))\n",
        "\n",
        "    print(f\"\\nAttempting to push transformed dataset to Hugging Face Hub: {new_repo_name}\")\n",
        "    # To push to the Hugging Face Hub, you need to be logged in.\n",
        "    # You can do this by running `huggingface-cli login` in your terminal,\n",
        "    # or by providing your token programmatically:\n",
        "    # from huggingface_hub import login\n",
        "    # login(token=\"hf_YOUR_TOKEN_HERE\")\n",
        "    try:\n",
        "        new_dataset.push_to_hub(new_repo_name)\n",
        "        print(f\"Dataset successfully pushed to https://huggingface.co/datasets/{new_repo_name}\")\n",
        "    except Exception as e:\n",
        "        print(f\"Failed to push dataset to Hugging Face Hub. Please ensure you are logged in via 'huggingface-cli login' and have write permissions for '{new_repo_name}'. Error: {e}\")\n",
        "\n",
        "if __name__ == \"__main__\":\n",
        "    main()"
      ]
    }
  ]
}